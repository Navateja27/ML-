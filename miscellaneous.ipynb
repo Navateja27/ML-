{
 "cells": [
  {
   "cell_type": "code",
   "execution_count": 30,
   "id": "6192b5b0-0b54-49b2-ae44-c0d97c6934ca",
   "metadata": {},
   "outputs": [],
   "source": [
    "import random\n",
    "import numpy as np"
   ]
  },
  {
   "cell_type": "code",
   "execution_count": 31,
   "id": "d5895817-e05b-47e5-81a0-96f282a209b7",
   "metadata": {},
   "outputs": [],
   "source": [
    "random.seed(20)\n"
   ]
  },
  {
   "cell_type": "code",
   "execution_count": 32,
   "id": "b9aa2522-affe-4120-b9e6-70b4e6166f5f",
   "metadata": {},
   "outputs": [],
   "source": [
    "arr1 = np.array([1, 24, 31, 45, 73, 81, 94, 25])\n"
   ]
  },
  {
   "cell_type": "code",
   "execution_count": 37,
   "id": "717c25e7-c1e2-4aa6-9035-7f3c7386581a",
   "metadata": {},
   "outputs": [],
   "source": [
    "randomno= random.sample(range(len(arr1)),4)\n",
    "randomnum = arr1[randomno]"
   ]
  },
  {
   "cell_type": "code",
   "execution_count": 39,
   "id": "d77bdb87-51fe-44ef-a619-890dbea82ad8",
   "metadata": {},
   "outputs": [],
   "source": [
    "sum = np.sum(randomnum)"
   ]
  },
  {
   "cell_type": "code",
   "execution_count": 41,
   "id": "6545b052-b12a-4dc3-aa6c-4840c620e615",
   "metadata": {},
   "outputs": [
    {
     "data": {
      "text/plain": [
       "138"
      ]
     },
     "execution_count": 41,
     "metadata": {},
     "output_type": "execute_result"
    }
   ],
   "source": [
    "sum"
   ]
  },
  {
   "cell_type": "code",
   "execution_count": null,
   "id": "cc0c8fec-1794-44c8-85f1-f205085e5d4d",
   "metadata": {},
   "outputs": [],
   "source": []
  }
 ],
 "metadata": {
  "kernelspec": {
   "display_name": "Python 3 (ipykernel)",
   "language": "python",
   "name": "python3"
  },
  "language_info": {
   "codemirror_mode": {
    "name": "ipython",
    "version": 3
   },
   "file_extension": ".py",
   "mimetype": "text/x-python",
   "name": "python",
   "nbconvert_exporter": "python",
   "pygments_lexer": "ipython3",
   "version": "3.12.4"
  }
 },
 "nbformat": 4,
 "nbformat_minor": 5
}
