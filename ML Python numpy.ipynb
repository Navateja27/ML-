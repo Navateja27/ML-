{
 "cells": [
  {
   "cell_type": "markdown",
   "id": "9a42720b-2822-4420-a384-d5e04ed6d249",
   "metadata": {},
   "source": [
    "#Numpy Implementation"
   ]
  },
  {
   "cell_type": "code",
   "execution_count": 16,
   "id": "fea677d5-6c17-4363-9252-d627936d103a",
   "metadata": {},
   "outputs": [
    {
     "name": "stdout",
     "output_type": "stream",
     "text": [
      "Passed\n"
     ]
    }
   ],
   "source": [
    "import numpy as np\n",
    "arr1 = np.array([[1,2,3]])\n",
    "arr2 = np.zeros(50)\n",
    "arr3 = np.array([[1,2],[3,4],[5,6]])\n",
    "arr4 = np.matmul(arr1,arr3)\n",
    "arr2[4]=2\n",
    "if np.shape(arr4)==(1,2) and arr2[4]!=0:\n",
    "  print(\"Passed\")\n",
    "else:\n",
    "  print(\"Fail\")"
   ]
  }
 ],
 "metadata": {
  "kernelspec": {
   "display_name": "Python 3 (ipykernel)",
   "language": "python",
   "name": "python3"
  },
  "language_info": {
   "codemirror_mode": {
    "name": "ipython",
    "version": 3
   },
   "file_extension": ".py",
   "mimetype": "text/x-python",
   "name": "python",
   "nbconvert_exporter": "python",
   "pygments_lexer": "ipython3",
   "version": "3.12.4"
  }
 },
 "nbformat": 4,
 "nbformat_minor": 5
}
