{
 "cells": [
  {
   "cell_type": "markdown",
   "id": "e26f1227-4d50-4ecf-ab98-770f3dbcab75",
   "metadata": {},
   "source": [
    "#Numpy Implementation"
   ]
  },
  {
   "cell_type": "code",
   "execution_count": 15,
   "id": "8a5e20d2-b173-4c38-8038-7cd964112262",
   "metadata": {},
   "outputs": [],
   "source": [
    "import numpy as np"
   ]
  },
  {
   "cell_type": "code",
   "execution_count": 16,
   "id": "1fbd9ea1-6590-4a41-bcbd-7bc84916479f",
   "metadata": {},
   "outputs": [],
   "source": [
    "I = np.identity(3)"
   ]
  },
  {
   "cell_type": "code",
   "execution_count": 17,
   "id": "18f03e2d-c32e-4598-8ba0-13c38d6210d5",
   "metadata": {},
   "outputs": [],
   "source": [
    "a = (9*I)+1"
   ]
  },
  {
   "cell_type": "code",
   "execution_count": 23,
   "id": "30d5eb89-88e3-42b4-9e23-ba7940559885",
   "metadata": {},
   "outputs": [],
   "source": [
    "result = np.dot(I,a)"
   ]
  },
  {
   "cell_type": "code",
   "execution_count": 25,
   "id": "e585d1d8-b2c2-4f46-aa29-c80a3de5b29d",
   "metadata": {},
   "outputs": [
    {
     "data": {
      "text/plain": [
       "array([[10.,  1.,  1.],\n",
       "       [ 1., 10.,  1.],\n",
       "       [ 1.,  1., 10.]])"
      ]
     },
     "execution_count": 25,
     "metadata": {},
     "output_type": "execute_result"
    }
   ],
   "source": [
    "result"
   ]
  }
 ],
 "metadata": {
  "kernelspec": {
   "display_name": "Python 3 (ipykernel)",
   "language": "python",
   "name": "python3"
  },
  "language_info": {
   "codemirror_mode": {
    "name": "ipython",
    "version": 3
   },
   "file_extension": ".py",
   "mimetype": "text/x-python",
   "name": "python",
   "nbconvert_exporter": "python",
   "pygments_lexer": "ipython3",
   "version": "3.12.4"
  }
 },
 "nbformat": 4,
 "nbformat_minor": 5
}
